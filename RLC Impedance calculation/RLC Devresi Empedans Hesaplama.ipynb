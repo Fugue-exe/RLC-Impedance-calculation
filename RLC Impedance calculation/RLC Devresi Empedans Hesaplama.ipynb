{
 "cells": [
  {
   "cell_type": "code",
   "execution_count": 11,
   "id": "5f8aa3b9-d81f-40e9-aaaa-7fcefdbcd822",
   "metadata": {},
   "outputs": [
    {
     "name": "stdout",
     "output_type": "stream",
     "text": [
      "Resistance (R): 15.0 ohm\n",
      "Inductance (L): 0.3 henry\n",
      "Capacitance (C): 0.02 farad\n",
      "frequency (f): 50 Hz\n",
      "\n",
      "Inductor impedance (Z_L): 0.00+94.25j\n",
      "Capacitor impedance (Z_C): 0.00-0.16j\n",
      "Total impedance (Z_total): 15.00+94.09j\n"
     ]
    }
   ],
   "source": [
    "import math\n",
    "import cmath\n",
    "\n",
    "#Homework \n",
    "\n",
    "# Parameters for RLC circuit\n",
    "R = 15.0   # Resistance (ohm)\n",
    "L = 0.3    # Inductance (henry)\n",
    "C = 0.02   # Capacitance (farad)\n",
    "f = 50     # Frequency (Hz)\n",
    "\n",
    "# Angular frequency calculation\n",
    "omega = 2 * math.pi * f\n",
    "\n",
    "# Calculating the impedances of inductor and capacitor\n",
    "Z_L = 1j * omega * L\n",
    "Z_C = 1 / (1j * omega * C)\n",
    "\n",
    "# Calculate total impedance\n",
    "Z_total = R + Z_L + Z_C\n",
    "\n",
    "# Print results\n",
    "print(f\"Resistance (R): {R} ohm\")\n",
    "print(f\"Inductance (L): {L} henry\")\n",
    "print(f\"Capacitance (C): {C} farad\")\n",
    "print(f\"frequency (f): {f} Hz\\n\")\n",
    "\n",
    "print(f\"Inductor impedance (Z_L): {Z_L:.2f}\")\n",
    "print(f\"Capacitor impedance (Z_C): {Z_C:.2f}\")\n",
    "print(f\"Total impedance (Z_total): {Z_total:.2f}\")\n"
   ]
  }
 ],
 "metadata": {
  "kernelspec": {
   "display_name": "Python 3 (ipykernel)",
   "language": "python",
   "name": "python3"
  },
  "language_info": {
   "codemirror_mode": {
    "name": "ipython",
    "version": 3
   },
   "file_extension": ".py",
   "mimetype": "text/x-python",
   "name": "python",
   "nbconvert_exporter": "python",
   "pygments_lexer": "ipython3",
   "version": "3.12.4"
  }
 },
 "nbformat": 4,
 "nbformat_minor": 5
}
